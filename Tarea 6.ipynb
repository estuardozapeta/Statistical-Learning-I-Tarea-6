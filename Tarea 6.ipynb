{
 "cells": [
  {
   "cell_type": "markdown",
   "metadata": {},
   "source": [
    "## **Ensayo** - SVM"
   ]
  },
  {
   "cell_type": "code",
   "execution_count": 1,
   "metadata": {},
   "outputs": [],
   "source": [
    "import numpy as np\n",
    "from sklearn import datasets\n",
    "import tensorflow as tf \n",
    "import matplotlib.pyplot as plt"
   ]
  },
  {
   "cell_type": "code",
   "execution_count": 2,
   "metadata": {},
   "outputs": [
    {
     "name": "stdout",
     "output_type": "stream",
     "text": [
      "WARNING:tensorflow:From C:\\Users\\eezg_\\AppData\\Roaming\\Python\\Python37\\site-packages\\tensorflow\\python\\compat\\v2_compat.py:96: disable_resource_variables (from tensorflow.python.ops.variable_scope) is deprecated and will be removed in a future version.\n",
      "Instructions for updating:\n",
      "non-resource variables are not supported in the long term\n"
     ]
    }
   ],
   "source": [
    "if tf.__version__.startswith(\"2.\"):\n",
    "    import tensorflow.compat.v1 as tf\n",
    "    tf.compat.v1.disable_v2_behavior()\n",
    "    tf.compat.v1.disable_eager_execution()"
   ]
  },
  {
   "cell_type": "markdown",
   "metadata": {},
   "source": [
    "### Support Vector Machine\n",
    "\n",
    "Es un algoritmo de aprendizaje supervisado, su objetivo es encontrar un hiperplano en un espacio N-dimensional, las dimensiones van a estar dadas por el número de caracteristícas que se posean. Prácticamente el hiperplano es un límite de decisión que permiten clasificar los datos.\n",
    "\n",
    "Este algoritmo es muy potente y versátil, capaz de realizar clasificación lineal, no lineal, por regresión e incluso detección de anomalías. El modelo fue creado como clasificaciión binaria pero ha ido teniendo variaciones como clasificación múltiple y regresión. SVM como se mencionó anteriormente se base en el concepto de hiper-plano, com se puede ver en la **Imagen 1** existe una línea recta que divide el plano en dos áreas específicas, lo que se busca en realidad es determinar que si la hipotesis es positiva prediga que el elemento pertenece a la clase 1 y si es negativa pertenece a la clase 0.\n",
    "\n",
    "<center><b>Imagen 1</b>. Representación del algoritmo de SVM</center>\n",
    "\n",
    "<img src=\"https://raw.githubusercontent.com/estuardozapeta/Statistical-Learning-I-Tarea-6/master/svm.jpg\">\n",
    "\n",
    "Fuente: https://www.youtube.com/watch?v=kUkuwyiCAAs&feature=youtu.be\n",
    "\n",
    "#### Hipótesis y Función de costo\n",
    "\n",
    "Dado un conjunto de observaciones separables de ejemplos:\n",
    "$D = {(x_1, y_1)\\dotsi(x_n, y_n)}$, donde $xi \\in R^d$ e $yi \\in {+1, -1}$ se puede definir un hiperplano de separación con una función lineal que es capaz de separar dicho conjunto:\n",
    "\n",
    "$$ f(x) = (w_ix_i,  +\\dotsi+  w_dx_d) + b = w^T x + b$$\n",
    "\n",
    "donde $w_i \\in R$  $\\forall_i = 1  , d$ y $b \\in R$.\n",
    "Y su hiperplano óptimo:\n",
    "\n",
    "$$H : w^T x + b = 0$$\n",
    "\n",
    "Siendo $b$ una constante que indica la posición del hiperplano respecto al origen de coordenadas. Esta constante recibe el nombre de sesgo y $w$ es el vector normal del hiperplano.\n",
    "\n",
    "Dicho hiperplano debe cumplir las siguientes desigualdades:\n",
    "\n",
    "$$(w^T x_i) + b > 0 \\quad\\text{si}\\quad\\text y_i = +1 \\forall_i = 1 ,\\dotsi, n$$\n",
    "$$(w^T x_i) + b < 0 \\quad\\text{si}\\quad\\text y_i = -1 \\forall_i = 1 ,\\dotsi, n$$\n",
    "\n",
    "Es decir, si el resultado de la operación es positivo la muestra permanecerá a una clase, caso contrario la otra clase. Ahora se considera un hiperplano con margen máximo.\n",
    "\n",
    "$$(w^T x_i) + b \\geq 1 \\quad\\text{si}\\quad\\text y_i = +1$$\n",
    "$$(w^T x_i) + b \\geq -1 \\quad\\text{si}\\quad\\text y_i = -1$$\n",
    "\n",
    "Las expresiones anteriores se puede escribir de forma compacta:\n",
    "\n",
    "$$y_i((w^T x_i) + b) \\geq 1 \\forall_i = 1 , \\dotsi , n$$\n",
    "\n",
    "En un problema que es linealmente separable habrá infinitos hiperplanos que cumplan esta condición. Lo que se busca es aquel que tenga un mayor margen. Es decir, se desea maximizar la distancia entre los datos y la frontera de decisión. Los puntos que caen sobre cada uno de los hiperplanos son los que cumplen:\n",
    "\n",
    "$$H_1 : (w^T x_i) + b = +1$$\n",
    "$$H_2 : (w^T x_i) + b = -1$$\n",
    "\n",
    "Por lo tanto, estos hiperplanos son paralelos al hiperplano $H$ con la ecuación: $H : w^T x + b = 0$. Si a esto se le imponen las condiciones mencionadas anteriormente se puede escribir de forma equivalente como un problema de programación cuadrática y sería de la siguiente forma:\n",
    "\n",
    "$$\\frac{1}{2} ||w||^2$$\n",
    "\n",
    "Esta formulación  muestra que su función objetivo es la minimización de una norma con respecto a un vector de pesos normales de hiperplano sujeto a restricciones lineales:\n",
    "\n",
    "$$ J(\\theta) = \\frac{1}{2m}\\sum_{i=1}^m(h_\\theta(x^{(i)}) - y^{(i)})^2 $$\n",
    "\n",
    "Fuente: https://www.youtube.com/watch?v=geI6lM5iOl0&feature=youtu.be\n",
    "\n",
    "### Ejemplo usando TensorFlow"
   ]
  },
  {
   "cell_type": "markdown",
   "metadata": {},
   "source": [
    "#### Carga de datos"
   ]
  },
  {
   "cell_type": "code",
   "execution_count": 3,
   "metadata": {},
   "outputs": [],
   "source": [
    "iris = datasets.load_iris()"
   ]
  },
  {
   "cell_type": "markdown",
   "metadata": {},
   "source": [
    "#### Selección de \"**x**\" y \"**y**\""
   ]
  },
  {
   "cell_type": "code",
   "execution_count": 15,
   "metadata": {},
   "outputs": [],
   "source": [
    "x = iris[\"data\"][:, (2, 3)]\n",
    "y = (iris[\"target\"] == 0).astype(np.float64)"
   ]
  },
  {
   "cell_type": "markdown",
   "metadata": {},
   "source": [
    "#### Función de entreno"
   ]
  },
  {
   "cell_type": "code",
   "execution_count": 49,
   "metadata": {},
   "outputs": [],
   "source": [
    "def train_svm(x_train, y_train, lr, c, epochs):\n",
    "    t_train = np.array([1.0 if z == 1 else -1.0 for z in y_train])\n",
    "\n",
    "    tf.reset_default_graph()\n",
    "    g = tf.Graph()\n",
    "    \n",
    "    with g.as_default():\n",
    "        \n",
    "        x = tf.placeholder(tf.float32, shape = (150, 2))\n",
    "        y = tf.placeholder(tf.float32, shape = (150, 1))\n",
    "        t = tf.placeholder(tf.float32, shape = (150, 1))\n",
    "\n",
    "        lr_ = tf.placeholder(tf.float32)\n",
    "        c_ = tf.placeholder(tf.float32)        \n",
    "        \n",
    "        w = tf.Variable(tf.truncated_normal(shape = (2, 1)))\n",
    "        b = tf.Variable(tf.truncated_normal(shape = (1, 1)))\n",
    "        \n",
    "        svm_op = tf.add(tf.matmul(x, w), b)\n",
    "        t_hat = tf.sign(svm_op)\n",
    "        w_norm = tf.multiply(tf.constant(0.5), tf.reduce_sum(tf.square(w)))\n",
    "        classif_term = tf.reduce_sum(tf.maximum(tf.constant(0.), tf.subtract(tf.constant(1.), tf.multiply(t, svm_op))))\n",
    "        cost = tf.add(w_norm, tf.multiply(c_, classif_term))\n",
    "        accuracy = tf.reduce_mean(tf.cast(tf.equal(t_hat, t), tf.float32))\n",
    "        trainstep = tf.train.GradientDescentOptimizer(lr_).minimize(cost) \n",
    "        \n",
    "        init = tf.global_variables_initializer()        \n",
    "   \n",
    "    with tf.Session(graph = g) as session:\n",
    "        \n",
    "        session.run(init)       \n",
    "        for epoch in range(epochs):            \n",
    "            _, cst, acc = session.run([trainstep, cost, accuracy], \n",
    "                                  feed_dict = {x : x_train, y : y_train.reshape((150, 1)), t : t_train.reshape((150, 1)), lr_ : lr, c_ : c})\n",
    "        w_, b_ = session.run([w, b])        \n",
    "    \n",
    "    return w_, b_"
   ]
  },
  {
   "cell_type": "markdown",
   "metadata": {},
   "source": [
    "#### Función para graficar el hiper-plano"
   ]
  },
  {
   "cell_type": "code",
   "execution_count": 50,
   "metadata": {},
   "outputs": [],
   "source": [
    "def graph_svm(x, y, w, b): \n",
    "    plt.scatter(x[y == 1, 0], x[y == 1, 1], c = 'g', marker = 'o', label=\"setosa\")\n",
    "    plt.scatter(x[y == 0, 0], x[y == 0, 1], c = 'y', marker = '*', label=\"otras\")\n",
    "    plt.legend()\n",
    "    plt.title(\"Iris setosa\")\n",
    "    grillaX = np.array([d[0] for d in x])\n",
    "    m_ = -w[0,0] / w[1,0]\n",
    "    b_ = -b[0] / w[1,0]\n",
    "    yDesBound = b_ + m_*grillaX\n",
    "    plt.plot(grillaX, yDesBound, 'k-', label = \"Límite de decisión\")"
   ]
  },
  {
   "cell_type": "markdown",
   "metadata": {},
   "source": [
    "#### Prueba con lr = 0.001, c = 5, epochs = 200"
   ]
  },
  {
   "cell_type": "code",
   "execution_count": 51,
   "metadata": {},
   "outputs": [],
   "source": [
    "w, b = train_svm(x, y, 0.001, 5, 200)"
   ]
  },
  {
   "cell_type": "markdown",
   "metadata": {},
   "source": [
    "#### Hiper-plano"
   ]
  },
  {
   "cell_type": "code",
   "execution_count": 52,
   "metadata": {},
   "outputs": [
    {
     "data": {
      "image/png": "[encoded data removed]",
      "text/plain": [
       "<Figure size 600x360 with 1 Axes>"
      ]
     },
     "metadata": {},
     "output_type": "display_data"
    }
   ],
   "source": [
    "fig = plt.figure(figsize=(10, 6), dpi= 60, facecolor='w', edgecolor='k')\n",
    "graph_svm(x, y, w, b)"
   ]
  },
  {
   "cell_type": "markdown",
   "metadata": {},
   "source": [
    "#### Funciones Kernel\n",
    "\n",
    "Un kernel es una función que devuelve el resultado del producto punto entre dos vectores en un espacio dimensional diferente al espacio original en el que se encuentran los vectores. \n",
    "\n",
    "Para entrar en detalle, tomando de base las fórmulas matemáticas que se emplean para resolver problemas de optimización, hay que recordar que resuelven usando un producto punto, si este se sustituye por un kernel, se obtienen prácticamente los vectores soporte (y el hiperplano) en la dimensión correspondiente al kernel. Ha esto se le suele conocer como kernel trick, porque, con solo una pequeña modificación del problema original, se puede lograr el resultado para cualquier dimensión y esto gracias a los kernels. Existen distintos kernels, algunos de los más utilizados son:\n",
    " \n",
    "- **Kernel lineal**. Si se emplea un Kernel lineal, el SVM obtenido es equivalente al Support Vector Classifier.\n",
    "- **Kernel polinómico**. Cuando se emplea d=1 y c=0, el resultado es el mismo que el de un kernel lineal. Si d>1, se generan límites de decisión no lineales, aumentando la no linealidad a medida que aumenta d. No suele ser recomendable emplear valores de d mayores 5 por problemas de overfitting.\n",
    "\n",
    "Fuente: https://www.youtube.com/watch?v=01hse_MOx0g&feature=youtu.be\n",
    "\n",
    "#### Algunos comentarios en relación a otros modelos\n",
    "\n",
    "SVM  se ve afectado por su capacidad predictiva por el sobreentrenamiento a unos datos con ruido, lo cual se refleja en un bajo rendimiento ante datos nuevos, es decir, aquellos que no se utilizaron para generar el modelo. Para el caso de los modelos de clasificación como árbol de decisión, el rendimiento es mucho mejor, quizás por la manera de predicción local."
   ]
  }
 ],
 "metadata": {
  "kernelspec": {
   "display_name": "Python 3",
   "language": "python",
   "name": "python3"
  },
  "language_info": {
   "codemirror_mode": {
    "name": "ipython",
    "version": 3
   },
   "file_extension": ".py",
   "mimetype": "text/x-python",
   "name": "python",
   "nbconvert_exporter": "python",
   "pygments_lexer": "ipython3",
   "version": "3.7.4"
  }
 },
 "nbformat": 4,
 "nbformat_minor": 4
}
